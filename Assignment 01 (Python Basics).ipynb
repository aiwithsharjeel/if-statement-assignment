{
 "cells": [
  {
   "cell_type": "markdown",
   "metadata": {},
   "source": [
    "# Part -1 Python Basics (Variables)"
   ]
  },
  {
   "cell_type": "markdown",
   "metadata": {},
   "source": [
    "1. Print Your Name with your Father name and Date of birth using suitable escape sequence charactor"
   ]
  },
  {
   "cell_type": "code",
   "execution_count": 3,
   "metadata": {},
   "outputs": [
    {
     "name": "stdout",
     "output_type": "stream",
     "text": [
      "Name: Enter your name:sharjeel\n",
      "Father's Name: enter your father name:kamal \n",
      "Date of Birth: Enter your DOB:30/1/2007\n"
     ]
    }
   ],
   "source": [
    "# Write your code here\n",
    "My_name = (\"Enter your name:sharjeel\" )\n",
    "father_name = (\"enter your father name:kamal \")\n",
    "DOB = (\"Enter your DOB:30/1/2007\")\n",
    "print(f\"Name: {My_name}\\nFather's Name: {father_name}\\nDate of Birth: {DOB}\")\n",
    "\n"
   ]
  },
  {
   "cell_type": "markdown",
   "metadata": {},
   "source": [
    "2. Write your small bio using variables and print it using print function"
   ]
  },
  {
   "cell_type": "code",
   "execution_count": 4,
   "metadata": {},
   "outputs": [
    {
     "name": "stdout",
     "output_type": "stream",
     "text": [
      "Name: sharjeel\n",
      "Father's Name: kamal\n",
      "Date of Birth: 30/1/2007\n",
      "Bio: I am a student of o levels .I study at BVS PARSI HIGH SCHOOL,KARACHI.\n"
     ]
    }
   ],
   "source": [
    "# Write your code here\n",
    "# Defining variables\n",
    "name = \"sharjeel\"\n",
    "father_name = \"kamal\"\n",
    "dob = \"30/1/2007\"\n",
    "bio = \"I am a student of o levels .I study at BVS PARSI HIGH SCHOOL,KARACHI.\"\n",
    "\n",
    "# Printing the bio\n",
    "print(f\"Name: {name}\\nFather's Name: {father_name}\\nDate of Birth: {dob}\\nBio: {bio}\")\n"
   ]
  },
  {
   "cell_type": "markdown",
   "metadata": {},
   "source": [
    "3. Write a program in which use all the operators we can use in Python"
   ]
  },
  {
   "cell_type": "code",
   "execution_count": 5,
   "metadata": {},
   "outputs": [
    {
     "name": "stdout",
     "output_type": "stream",
     "text": [
      "Arithmetic Operators\n",
      "Addition: 10 + 3 = 13\n",
      "Subtraction: 10 - 3 = 7\n",
      "Multiplication: 10 * 3 = 30\n",
      "Division: 10 / 3 = 3.3333333333333335\n"
     ]
    }
   ],
   "source": [
    "# Write your code here\n",
    "a = 10\n",
    "b = 3\n",
    "print(\"Arithmetic Operators\")\n",
    "print(f\"Addition: {a} + {b} = {a + b}\")\n",
    "print(f\"Subtraction: {a} - {b} = {a - b}\")\n",
    "print(f\"Multiplication: {a} * {b} = {a * b}\")\n",
    "print(f\"Division: {a} / {b} = {a / b}\")"
   ]
  },
  {
   "cell_type": "markdown",
   "metadata": {},
   "source": [
    "4. Completes the following steps of small task:\n",
    "    - Mention Marks of English , Islamiat and Maths out of 100 in 3 different variables\n",
    "    - Mention Variable of Total Marks and assign 300 to it\n",
    "    - Calculate Percentage"
   ]
  },
  {
   "cell_type": "code",
   "execution_count": 16,
   "metadata": {},
   "outputs": [
    {
     "name": "stdout",
     "output_type": "stream",
     "text": [
      "71.33333333333334\n"
     ]
    }
   ],
   "source": [
    "# Write your code here\n",
    "english = int(\"78\")\n",
    "maths=int(\"98\")\n",
    "isl=int(\"38\")\n",
    "total_marks = \"100\"\n",
    "percentage = (english+maths+isl)/300*100\n",
    "\n",
    "print(percentage)"
   ]
  },
  {
   "cell_type": "markdown",
   "metadata": {},
   "source": [
    "# Part -2 Python Basics (Conditional Statements)"
   ]
  },
  {
   "cell_type": "markdown",
   "metadata": {},
   "source": [
    "1) A company decided to give bonus of 5% to employee if his/her year of service is more than 5 years.\n",
    "Ask user for their salary and year of service and print the net bonus amount."
   ]
  },
  {
   "cell_type": "code",
   "execution_count": 20,
   "metadata": {},
   "outputs": [
    {
     "name": "stdout",
     "output_type": "stream",
     "text": [
      "ENTER YOUR SALARY: 500\n",
      "year_of_service: 6\n",
      "25.0\n"
     ]
    }
   ],
   "source": [
    "#Type your code here\n",
    "Salaray= int(input(\"ENTER YOUR SALARY: \"))\n",
    "year_of_service= int(input(\"year_of_service: \"))\n",
    "\n",
    "if year_of_service > 5:\n",
    "    print(Salaray* 5/100 )\n",
    "else:\n",
    "    print(\"no bonus\")\n"
   ]
  },
  {
   "cell_type": "markdown",
   "metadata": {},
   "source": [
    "\n",
    "2) Write a program to check whether a person is eligible for voting or not. (accept age from user) if age is greater than 17 eligible otherwise not eligible"
   ]
  },
  {
   "cell_type": "code",
   "execution_count": 21,
   "metadata": {},
   "outputs": [
    {
     "name": "stdout",
     "output_type": "stream",
     "text": [
      "ENTER YOUR AGE: 14\n",
      "not eligoble\n"
     ]
    }
   ],
   "source": [
    "#Type your code here\n",
    "age = int(input(\"ENTER YOUR AGE: \"))\n",
    "if age > 17:\n",
    "    print(\"you are eligible\")\n",
    "else:\n",
    "    print(\"not eligoble\")\n"
   ]
  },
  {
   "cell_type": "markdown",
   "metadata": {},
   "source": [
    "\n",
    "3) Write a program to check whether a number entered by user is even or odd."
   ]
  },
  {
   "cell_type": "code",
   "execution_count": 1,
   "metadata": {},
   "outputs": [
    {
     "name": "stdout",
     "output_type": "stream",
     "text": [
      "enter a number: 4\n",
      "number is even\n"
     ]
    }
   ],
   "source": [
    "#Type your code here\n",
    "number = int(input(\"enter a number: \"))\n",
    "if number % 2 == 0 :\n",
    "    print(\"number is even\")\n",
    "else:\n",
    "    print(\"number is odd\")\n",
    "    \n",
    "    "
   ]
  },
  {
   "cell_type": "markdown",
   "metadata": {},
   "source": [
    "4) Write a program to check whether a number is divisible by 7 or not.\n",
    "Show Answer"
   ]
  },
  {
   "cell_type": "code",
   "execution_count": 2,
   "metadata": {},
   "outputs": [
    {
     "name": "stdout",
     "output_type": "stream",
     "text": [
      "enter a number: 67\n",
      "number is not divisible\n"
     ]
    }
   ],
   "source": [
    "#Type your code here\n",
    "number = int(input(\"enter a number: \"))\n",
    "if number % 7 == 0 :\n",
    "    print(\"number is divisible\")\n",
    "else:\n",
    "    print(\"number is not divisible\")\n",
    "    \n"
   ]
  },
  {
   "cell_type": "markdown",
   "metadata": {},
   "source": [
    "5) Write a program to display \n",
    "\"Hello\" if a number entered by user is a multiple of five , otherwise print \"Bye\"."
   ]
  },
  {
   "cell_type": "code",
   "execution_count": 4,
   "metadata": {},
   "outputs": [
    {
     "name": "stdout",
     "output_type": "stream",
     "text": [
      "enter a number: 10\n",
      "HELLO\n"
     ]
    }
   ],
   "source": [
    "#Type your code here\n",
    "number = int(input(\"enter a number: \"))\n",
    "if number % 5 ==0 :\n",
    "    print(\"HELLO\")\n",
    "else:\n",
    "    print(\"bye\")\n",
    "\n",
    "\n"
   ]
  },
  {
   "cell_type": "markdown",
   "metadata": {},
   "source": [
    "7) Write a program to display the last digit of a number.\n"
   ]
  },
  {
   "cell_type": "code",
   "execution_count": 7,
   "metadata": {},
   "outputs": [
    {
     "name": "stdout",
     "output_type": "stream",
     "text": [
      "Enter a number: 56\n",
      "The last digit of 56 is 6.\n"
     ]
    }
   ],
   "source": [
    "#Type your code here\n",
    "\n",
    "number = int(input(\"Enter a number: \"))\n",
    "\n",
    "\n",
    "last_digit = number % 10\n",
    "print(f\"The last digit of {number} is {last_digit}.\")\n"
   ]
  },
  {
   "cell_type": "markdown",
   "metadata": {},
   "source": [
    "9) Take values of length and breadth of a rectangle from user and print if it is square or rectangle."
   ]
  },
  {
   "cell_type": "code",
   "execution_count": 8,
   "metadata": {},
   "outputs": [
    {
     "name": "stdout",
     "output_type": "stream",
     "text": [
      "Enter the length of the rectangle: 6\n",
      "Enter the breadth of the rectangle: 6\n",
      "It is a square.\n"
     ]
    }
   ],
   "source": [
    "#Type your code here \n",
    "\n",
    "length = float(input(\"Enter the length of the rectangle: \"))\n",
    "breadth = float(input(\"Enter the breadth of the rectangle: \"))\n",
    "\n",
    "if length == breadth:\n",
    "    print(\"It is a square.\")\n",
    "else:\n",
    "    print(\"It is a rectangle.\")\n"
   ]
  },
  {
   "cell_type": "markdown",
   "metadata": {},
   "source": [
    "10) Take two int values from user and print greatest among them."
   ]
  },
  {
   "cell_type": "code",
   "execution_count": 6,
   "metadata": {},
   "outputs": [
    {
     "name": "stdout",
     "output_type": "stream",
     "text": [
      "Enter the first integer: 4\n",
      "Enter the second integer: 6\n",
      "6 is the greatest.\n"
     ]
    }
   ],
   "source": [
    "# Type your code here\n",
    "\n",
    "num1 = int(input(\"Enter the first integer: \"))\n",
    "num2 = int(input(\"Enter the second integer: \"))\n",
    "\n",
    "\n",
    "if num1 > num2:\n",
    "    print(f\"{num1} is the greatest.\")\n",
    "elif num2 > num1:\n",
    "    print(f\"{num2} is the greatest.\")\n",
    "else:\n",
    "    print(\"Both numbers are equal.\")\n"
   ]
  },
  {
   "cell_type": "markdown",
   "metadata": {},
   "source": [
    "11) A shop will give discount of 10% if the cost of purchased quantity is more than 1000.\n",
    "Ask user for quantity\n",
    "Suppose, one unit will cost 100.\n",
    "Judge and print total cost for user."
   ]
  },
  {
   "cell_type": "code",
   "execution_count": 5,
   "metadata": {},
   "outputs": [
    {
     "name": "stdout",
     "output_type": "stream",
     "text": [
      "Enter the quantity: 40\n",
      "The total cost is: 3600.0\n"
     ]
    }
   ],
   "source": [
    "#Type your code here\n",
    "quantity = int(input(\"Enter the quantity: \"))\n",
    "per_unit = 100\n",
    "total_price = quantity * per_unit\n",
    "\n",
    "if total_price > 1000:\n",
    "    discount = total_price * 0.10\n",
    "    total_price -= discount\n",
    "else:\n",
    "    print(\"no discount\")\n",
    "\n",
    "print(f\"The total cost is: {total_price}\")\n"
   ]
  },
  {
   "cell_type": "markdown",
   "metadata": {},
   "source": [
    "12) A school has following rules for grading system:\n",
    "\n",
    "a. Below 25 - F\n",
    "\n",
    "b. 25 to 45 - E\n",
    "\n",
    "c. 45 to 50 - D\n",
    "\n",
    "d. 50 to 60 - C\n",
    "\n",
    "e. 60 to 80 - B\n",
    "\n",
    "f. Above 80 - A\n",
    "\n",
    "Ask user to enter marks and print the corresponding grade."
   ]
  },
  {
   "cell_type": "code",
   "execution_count": 9,
   "metadata": {},
   "outputs": [
    {
     "name": "stdout",
     "output_type": "stream",
     "text": [
      "Enter your marks: 56\n",
      "C\n"
     ]
    }
   ],
   "source": [
    "#Type your code here\n",
    "mark = int(input(\"Enter your marks: \"))\n",
    "\n",
    "if mark > 80 :\n",
    "    print(\"A\")\n",
    "elif mark >= 60 :\n",
    "    print(\"B\")\n",
    "elif mark >=50 :\n",
    "    print(\"C\")\n",
    "elif mark >= 45 :\n",
    "    print(\"D\")\n",
    "elif mark >= 25 :\n",
    "    print(\"E\") \n",
    "elif mark < 25 :\n",
    "    print(\"F\")\n",
    "else:\n",
    "    print(\"better luck next time??\")"
   ]
  },
  {
   "cell_type": "markdown",
   "metadata": {},
   "source": [
    "14)A student will not be allowed to sit in exam if his/her attendence is less than 75%.\n",
    "\n",
    "Take following input from user\n",
    "\n",
    "- Number of classes held\n",
    "\n",
    "- Number of classes attended.\n",
    "\n",
    "And print\n",
    "\n",
    "- percentage of class attended\n",
    "\n",
    "- Is student is allowed to sit in exam or not.\n"
   ]
  },
  {
   "cell_type": "code",
   "execution_count": 11,
   "metadata": {},
   "outputs": [
    {
     "name": "stdout",
     "output_type": "stream",
     "text": [
      "Enter number of classes held: 60\n",
      "Enter number of classes attended: 32\n",
      "53.333333333333336 you are not allowed to sit in exam \n"
     ]
    }
   ],
   "source": [
    "#Type your code here\n",
    "classes_held = int(input(\"Enter number of classes held: \"))\n",
    "classes_attended = int(input(\"Enter number of classes attended: \"))\n",
    "\n",
    "percentage = (classes_attended/classes_held)* 100\n",
    "\n",
    "if percentage < 75 :\n",
    "    print(f\"{percentage} you are not allowed to sit in exam \")\n",
    "else:\n",
    "    print(f\"{percentage} you can sit\")\n",
    "\n"
   ]
  },
  {
   "cell_type": "markdown",
   "metadata": {},
   "source": [
    "15) Modify the above question to allow student to sit if he/she has medical cause. Ask user if he/she has medical cause or not ( 'Y' or 'N' ) and print accordingly."
   ]
  },
  {
   "cell_type": "code",
   "execution_count": 22,
   "metadata": {},
   "outputs": [
    {
     "name": "stdout",
     "output_type": "stream",
     "text": [
      "Enter the number of classes held: Y\n"
     ]
    },
    {
     "ename": "ValueError",
     "evalue": "invalid literal for int() with base 10: 'Y'",
     "output_type": "error",
     "traceback": [
      "\u001b[1;31m---------------------------------------------------------------------------\u001b[0m",
      "\u001b[1;31mValueError\u001b[0m                                Traceback (most recent call last)",
      "Cell \u001b[1;32mIn[22], line 2\u001b[0m\n\u001b[0;32m      1\u001b[0m \u001b[38;5;66;03m#Type your code here\u001b[39;00m\n\u001b[1;32m----> 2\u001b[0m classes_held \u001b[38;5;241m=\u001b[39m \u001b[38;5;28mint\u001b[39m(\u001b[38;5;28minput\u001b[39m(\u001b[38;5;124m\"\u001b[39m\u001b[38;5;124mEnter the number of classes held: \u001b[39m\u001b[38;5;124m\"\u001b[39m))\n\u001b[0;32m      3\u001b[0m classes_attended \u001b[38;5;241m=\u001b[39m \u001b[38;5;28mint\u001b[39m(\u001b[38;5;28minput\u001b[39m(\u001b[38;5;124m\"\u001b[39m\u001b[38;5;124mEnter the number of classes attended: \u001b[39m\u001b[38;5;124m\"\u001b[39m))\n\u001b[0;32m      6\u001b[0m attendance_percentage \u001b[38;5;241m=\u001b[39m (classes_attended \u001b[38;5;241m/\u001b[39m classes_held) \u001b[38;5;241m*\u001b[39m \u001b[38;5;241m100\u001b[39m\n",
      "\u001b[1;31mValueError\u001b[0m: invalid literal for int() with base 10: 'Y'"
     ]
    }
   ],
   "source": [
    "#Type your code here\n",
    "classes_held = int(input(\"Enter the number of classes held: \"))\n",
    "classes_attended = int(input(\"Enter the number of classes attended: \"))\n",
    "\n",
    "\n",
    "attendance_percentage = (classes_attended / classes_held) * 100\n",
    "\n",
    "\n",
    "medical_cause = input(\"Does the student have a medical cause? (Y/N): \")\n",
    "\n",
    "\n",
    "if attendance_percentage >= 75 or medical_cause == 'Y':\n",
    "    allowed_to_sit = \"Yes, the student is allowed to sit in the exam.\"\n",
    "else:\n",
    "    allowed_to_sit = \"No, the student is not allowed to sit in the exam.\""
   ]
  },
  {
   "cell_type": "markdown",
   "metadata": {},
   "source": [
    "16) Write a program to check if a year is leap year or not.\n",
    "\n",
    "If a year is divisible by 4 then it is leap year but if the year is century year like 2000, 1900, 2100 then it must be divisible by 400."
   ]
  },
  {
   "cell_type": "code",
   "execution_count": 23,
   "metadata": {},
   "outputs": [
    {
     "name": "stdout",
     "output_type": "stream",
     "text": [
      "Enter a year: 1600\n",
      "Yes, it is a leap year.\n"
     ]
    }
   ],
   "source": [
    "#Type your code here\n",
    "\n",
    "\n",
    "year = int(input(\"Enter a year: \"))\n",
    "\n",
    "\n",
    "if (year % 4 == 0 ) or (year % 400 == 0):\n",
    "    is_leap_year = \"Yes, it is a leap year.\"\n",
    "else:\n",
    "    is_leap_year = \"No, it is not a leap year.\"\n",
    "\n",
    "\n",
    "print(is_leap_year)\n"
   ]
  },
  {
   "cell_type": "markdown",
   "metadata": {},
   "source": [
    "17) Ask user to enter age, gender ( M or F ), marital status ( Y or N ) and then using following rules print their place of service.\n",
    "\n",
    "if employee is female, then she will work only in urban areas.\n",
    "\n",
    "if employee is a male and age is in between 20 to 40 then he may work in anywhere\n",
    "\n",
    "if employee is male and age is in between 40 t0 60 then he will work in urban areas only.\n",
    "\n",
    "And any other input of age should print \"ERROR\""
   ]
  },
  {
   "cell_type": "code",
   "execution_count": 1,
   "metadata": {},
   "outputs": [
    {
     "name": "stdout",
     "output_type": "stream",
     "text": [
      "Enter a age: 23\n",
      "Enter your gender: male\n",
      "Enter your marital status: yes\n",
      "you can work any where\n"
     ]
    }
   ],
   "source": [
    "#Type your code here\n",
    "age = int(input(\"Enter a age: \"))\n",
    "gender = input(\"Enter your gender: \")\n",
    "marital_status = input(\"Enter your marital status: \")\n",
    "\n",
    "if gender == \"female\" :\n",
    "    print(\"you will work in urban area\")\n",
    "elif gender == \"male\" and 20 <age< 40 :\n",
    "    print(\"you can work any where\")\n",
    "elif gender == \"male\" and 40<age < 60 :\n",
    "    \n",
    "    print(\"you can work in urban areas only\")\n",
    "else:\n",
    "    print(\"error\")\n",
    "    \n",
    "\n",
    "\n"
   ]
  },
  {
   "cell_type": "markdown",
   "metadata": {},
   "source": [
    "6) Write a program to calculate the electricity bill (accept number of unit from user) according to the following criteria :\n",
    "     Unit                                                     Price  \n",
    "uptp 100 units                                             no charge\n",
    "Next 200 units                                              Rs 5 per unit\n",
    "After 200 units                                             Rs 10 per unit\n",
    "(For example if input unit is 350 than total bill amount is Rs.3500\n",
    "(For example if input unit is 97 than total bill amount is Rs.0\n",
    "(For example if input unit is 150 than total bill amount is Rs.750"
   ]
  },
  {
   "cell_type": "markdown",
   "metadata": {},
   "source": [
    "13) Take input of age of 3 people by user and determine oldest and youngest among them."
   ]
  },
  {
   "cell_type": "code",
   "execution_count": 2,
   "metadata": {},
   "outputs": [
    {
     "name": "stdout",
     "output_type": "stream",
     "text": [
      "Enter the number of units consumed: 234\n",
      "Total bill amount is Rs.670\n"
     ]
    }
   ],
   "source": [
    "#Type your counit\n",
    "\n",
    "units = int(input(\"Enter the number of units consumed: \"))\n",
    "\n",
    "\n",
    "bill_amount = 0\n",
    "\n",
    "if units <= 100:\n",
    "    bill_amount = 0\n",
    "elif units <= 300:\n",
    "    bill_amount = (units - 100) * 5\n",
    "else:\n",
    "    bill_amount = (200 * 5) + ((units - 300) * 10)\n",
    "\n",
    "print(f\"Total bill amount is Rs.{bill_amount}\")\n"
   ]
  }
 ],
 "metadata": {
  "kernelspec": {
   "display_name": "Python 3 (ipykernel)",
   "language": "python",
   "name": "python3"
  },
  "language_info": {
   "codemirror_mode": {
    "name": "ipython",
    "version": 3
   },
   "file_extension": ".py",
   "mimetype": "text/x-python",
   "name": "python",
   "nbconvert_exporter": "python",
   "pygments_lexer": "ipython3",
   "version": "3.11.5"
  }
 },
 "nbformat": 4,
 "nbformat_minor": 2
}
